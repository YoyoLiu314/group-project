{
 "cells": [
  {
   "cell_type": "markdown",
   "id": "e5ed8625",
   "metadata": {},
   "source": [
    "# DSCI 100 Group Project"
   ]
  },
  {
   "cell_type": "markdown",
   "id": "bb14dad6",
   "metadata": {},
   "source": [
    "### Introduction\n",
    "To do: \n",
    "- Write a bit about what the data set is (couple sentences about PLAICraft, purpose of the study)\n",
    "- State the question: demand forecasting\n",
    "- Describe the dataset used: sessions AND players\n",
    "\n",
    "New question: predicting subscription status\n",
    "- Use quantitative variables (ignore experience)\n",
    "- Can use age, hours played, number of sessions, and session length: the last two use some more interesting wrangling techniques to figure out that can show our knowledge and make our investigation a bit different\n",
    "- Call it \"playing behaviour\"?\n",
    "\n",
    "Can a player's age, played hours, average session duration, and number of sessions played predict whether they will subscribe to a game-related newsletter?"
   ]
  },
  {
   "cell_type": "markdown",
   "id": "77f44770-f169-4fe0-bb6f-ea5e4e78822e",
   "metadata": {},
   "source": [
    "hi"
   ]
  },
  {
   "cell_type": "markdown",
   "id": "8343434c",
   "metadata": {},
   "source": [
    "PLAICraft is a research group from the Computer Science department at UBC. They have a goal to build an advanced AI that reacts just like a human in a virtual real world setting like Minecraft. To do this, the techniques players use to play the game is used to help build the AI model. While they gather information about the players techniques, PLAICraft also collects player's information. "
   ]
  },
  {
   "cell_type": "markdown",
   "id": "2fee0034",
   "metadata": {},
   "source": [
    "### Summary\n",
    "Upon inspection, the `players` dataset, in which each observation is a unique player, contains the following variables:\n",
    "- `experience`, the self-reported experience level of each player: character string (should be categorical)\n",
    "- `subscribe`, whether the player subscribed to a newsletter: logical\n",
    "- `hashedEmail`, a unique, untraceable identifier derived from the player's email: character string\n",
    "- `played_hours`, how long they played PLAICraft, in hours: numeric \n",
    "- `gender`, their self-reported gender identity: character string\n",
    "- `Age`, their self-reported age in years: numeric\n",
    "\n",
    "Data for 196 unique players is included in this dataset.\n",
    "\n",
    "`sessions`, in which each observation is a play session contains:\n",
    "- `hashedEmail` of the player who played the session\n",
    "- `start_time` and `end_time`, timestamps for the beginning and end of the play session: character strings that should be date-times\n",
    "- `original_start_time` and `original_end_time`, roughly the number of milliseconds between January 1, 1970, and the beginning/end of the play session: numeric\n",
    "\n",
    "Data for 1535 play sessions is included in this dataset."
   ]
  },
  {
   "cell_type": "markdown",
   "id": "41346356",
   "metadata": {},
   "source": [
    "### Exploratory Data Analysis\n",
    "\n",
    "To do: \n",
    "- Split the data into a training set and a testing set. Only explore the training set.\n",
    "- Calculate basic summary statistics on time played and make a few visualizations, like in planning document"
   ]
  },
  {
   "cell_type": "markdown",
   "id": "1face0fb",
   "metadata": {},
   "source": [
    "Initially, we had expected to find that players who had played more hours and are younger in age are more likely to have subscribed to the game. "
   ]
  },
  {
   "cell_type": "code",
   "execution_count": 1,
   "id": "6b8151f2",
   "metadata": {},
   "outputs": [
    {
     "name": "stderr",
     "output_type": "stream",
     "text": [
      "── \u001b[1mAttaching core tidyverse packages\u001b[22m ──────────────────────── tidyverse 2.0.0 ──\n",
      "\u001b[32m✔\u001b[39m \u001b[34mdplyr    \u001b[39m 1.1.4     \u001b[32m✔\u001b[39m \u001b[34mreadr    \u001b[39m 2.1.5\n",
      "\u001b[32m✔\u001b[39m \u001b[34mforcats  \u001b[39m 1.0.0     \u001b[32m✔\u001b[39m \u001b[34mstringr  \u001b[39m 1.5.1\n",
      "\u001b[32m✔\u001b[39m \u001b[34mggplot2  \u001b[39m 3.5.1     \u001b[32m✔\u001b[39m \u001b[34mtibble   \u001b[39m 3.2.1\n",
      "\u001b[32m✔\u001b[39m \u001b[34mlubridate\u001b[39m 1.9.3     \u001b[32m✔\u001b[39m \u001b[34mtidyr    \u001b[39m 1.3.1\n",
      "\u001b[32m✔\u001b[39m \u001b[34mpurrr    \u001b[39m 1.0.2     \n",
      "── \u001b[1mConflicts\u001b[22m ────────────────────────────────────────── tidyverse_conflicts() ──\n",
      "\u001b[31m✖\u001b[39m \u001b[34mdplyr\u001b[39m::\u001b[32mfilter()\u001b[39m masks \u001b[34mstats\u001b[39m::filter()\n",
      "\u001b[31m✖\u001b[39m \u001b[34mdplyr\u001b[39m::\u001b[32mlag()\u001b[39m    masks \u001b[34mstats\u001b[39m::lag()\n",
      "\u001b[36mℹ\u001b[39m Use the conflicted package (\u001b[3m\u001b[34m<http://conflicted.r-lib.org/>\u001b[39m\u001b[23m) to force all conflicts to become errors\n",
      "── \u001b[1mAttaching packages\u001b[22m ────────────────────────────────────── tidymodels 1.1.1 ──\n",
      "\n",
      "\u001b[32m✔\u001b[39m \u001b[34mbroom       \u001b[39m 1.0.6     \u001b[32m✔\u001b[39m \u001b[34mrsample     \u001b[39m 1.2.1\n",
      "\u001b[32m✔\u001b[39m \u001b[34mdials       \u001b[39m 1.3.0     \u001b[32m✔\u001b[39m \u001b[34mtune        \u001b[39m 1.1.2\n",
      "\u001b[32m✔\u001b[39m \u001b[34minfer       \u001b[39m 1.0.7     \u001b[32m✔\u001b[39m \u001b[34mworkflows   \u001b[39m 1.1.4\n",
      "\u001b[32m✔\u001b[39m \u001b[34mmodeldata   \u001b[39m 1.4.0     \u001b[32m✔\u001b[39m \u001b[34mworkflowsets\u001b[39m 1.0.1\n",
      "\u001b[32m✔\u001b[39m \u001b[34mparsnip     \u001b[39m 1.2.1     \u001b[32m✔\u001b[39m \u001b[34myardstick   \u001b[39m 1.3.1\n",
      "\u001b[32m✔\u001b[39m \u001b[34mrecipes     \u001b[39m 1.1.0     \n",
      "\n",
      "── \u001b[1mConflicts\u001b[22m ───────────────────────────────────────── tidymodels_conflicts() ──\n",
      "\u001b[31m✖\u001b[39m \u001b[34mscales\u001b[39m::\u001b[32mdiscard()\u001b[39m masks \u001b[34mpurrr\u001b[39m::discard()\n",
      "\u001b[31m✖\u001b[39m \u001b[34mdplyr\u001b[39m::\u001b[32mfilter()\u001b[39m   masks \u001b[34mstats\u001b[39m::filter()\n",
      "\u001b[31m✖\u001b[39m \u001b[34mrecipes\u001b[39m::\u001b[32mfixed()\u001b[39m  masks \u001b[34mstringr\u001b[39m::fixed()\n",
      "\u001b[31m✖\u001b[39m \u001b[34mdplyr\u001b[39m::\u001b[32mlag()\u001b[39m      masks \u001b[34mstats\u001b[39m::lag()\n",
      "\u001b[31m✖\u001b[39m \u001b[34myardstick\u001b[39m::\u001b[32mspec()\u001b[39m masks \u001b[34mreadr\u001b[39m::spec()\n",
      "\u001b[31m✖\u001b[39m \u001b[34mrecipes\u001b[39m::\u001b[32mstep()\u001b[39m   masks \u001b[34mstats\u001b[39m::step()\n",
      "\u001b[34m•\u001b[39m Dig deeper into tidy modeling with R at \u001b[32mhttps://www.tmwr.org\u001b[39m\n",
      "\n",
      "\n",
      "Attaching package: ‘janitor’\n",
      "\n",
      "\n",
      "The following objects are masked from ‘package:stats’:\n",
      "\n",
      "    chisq.test, fisher.test\n",
      "\n",
      "\n"
     ]
    }
   ],
   "source": [
    "#loading libraries\n",
    "library(tidyverse)\n",
    "library(repr)\n",
    "library(tidymodels)\n",
    "library(janitor)\n",
    "options(repr.matrix.max.rows = 10)"
   ]
  },
  {
   "cell_type": "code",
   "execution_count": 2,
   "id": "29294fb7",
   "metadata": {},
   "outputs": [
    {
     "name": "stderr",
     "output_type": "stream",
     "text": [
      "\u001b[1mRows: \u001b[22m\u001b[34m196\u001b[39m \u001b[1mColumns: \u001b[22m\u001b[34m7\u001b[39m\n",
      "\u001b[36m──\u001b[39m \u001b[1mColumn specification\u001b[22m \u001b[36m────────────────────────────────────────────────────────\u001b[39m\n",
      "\u001b[1mDelimiter:\u001b[22m \",\"\n",
      "\u001b[31mchr\u001b[39m (4): experience, hashedEmail, name, gender\n",
      "\u001b[32mdbl\u001b[39m (2): played_hours, Age\n",
      "\u001b[33mlgl\u001b[39m (1): subscribe\n",
      "\n",
      "\u001b[36mℹ\u001b[39m Use `spec()` to retrieve the full column specification for this data.\n",
      "\u001b[36mℹ\u001b[39m Specify the column types or set `show_col_types = FALSE` to quiet this message.\n",
      "\u001b[1mRows: \u001b[22m\u001b[34m1535\u001b[39m \u001b[1mColumns: \u001b[22m\u001b[34m5\u001b[39m\n",
      "\u001b[36m──\u001b[39m \u001b[1mColumn specification\u001b[22m \u001b[36m────────────────────────────────────────────────────────\u001b[39m\n",
      "\u001b[1mDelimiter:\u001b[22m \",\"\n",
      "\u001b[31mchr\u001b[39m (3): hashedEmail, start_time, end_time\n",
      "\u001b[32mdbl\u001b[39m (2): original_start_time, original_end_time\n",
      "\n",
      "\u001b[36mℹ\u001b[39m Use `spec()` to retrieve the full column specification for this data.\n",
      "\u001b[36mℹ\u001b[39m Specify the column types or set `show_col_types = FALSE` to quiet this message.\n"
     ]
    },
    {
     "data": {
      "text/html": [
       "<table class=\"dataframe\">\n",
       "<caption>A tibble: 1535 × 3</caption>\n",
       "<thead>\n",
       "\t<tr><th scope=col>hashed_email</th><th scope=col>start_time</th><th scope=col>end_time</th></tr>\n",
       "\t<tr><th scope=col>&lt;chr&gt;</th><th scope=col>&lt;dttm&gt;</th><th scope=col>&lt;dttm&gt;</th></tr>\n",
       "</thead>\n",
       "<tbody>\n",
       "\t<tr><td>bfce39c89d6549f2bb94d8064d3ce69dc3d7e72b38f431d8aa0c4bf95ccee6bf</td><td>2024-06-30 18:12:00</td><td>2024-06-30 18:24:00</td></tr>\n",
       "\t<tr><td>36d9cbb4c6bc0c1a6911436d2da0d09ec625e43e6552f575d4acc9cf487c4686</td><td>2024-06-17 23:33:00</td><td>2024-06-17 23:46:00</td></tr>\n",
       "\t<tr><td>f8f5477f5a2e53616ae37421b1c660b971192bd8ff77e3398304c7ae42581fdc</td><td>2024-07-25 17:34:00</td><td>2024-07-25 17:57:00</td></tr>\n",
       "\t<tr><td>bfce39c89d6549f2bb94d8064d3ce69dc3d7e72b38f431d8aa0c4bf95ccee6bf</td><td>2024-07-25 03:22:00</td><td>2024-07-25 03:58:00</td></tr>\n",
       "\t<tr><td>36d9cbb4c6bc0c1a6911436d2da0d09ec625e43e6552f575d4acc9cf487c4686</td><td>2024-05-25 16:01:00</td><td>2024-05-25 16:12:00</td></tr>\n",
       "\t<tr><td>⋮</td><td>⋮</td><td>⋮</td></tr>\n",
       "\t<tr><td>36d9cbb4c6bc0c1a6911436d2da0d09ec625e43e6552f575d4acc9cf487c4686</td><td>2024-05-10 23:01:00</td><td>2024-05-10 23:07:00</td></tr>\n",
       "\t<tr><td>7a4686586d290c67179275c7c3dfb4ea02f4d317d9ee0e2cee98baa27877a875</td><td>2024-07-01 04:08:00</td><td>2024-07-01 04:19:00</td></tr>\n",
       "\t<tr><td>fd6563a4e0f6f4273580e5fedbd8dda64990447aea5a33cbb5e894a3867ca44d</td><td>2024-07-28 15:36:00</td><td>2024-07-28 15:57:00</td></tr>\n",
       "\t<tr><td>fd6563a4e0f6f4273580e5fedbd8dda64990447aea5a33cbb5e894a3867ca44d</td><td>2024-07-25 06:15:00</td><td>2024-07-25 06:22:00</td></tr>\n",
       "\t<tr><td>36d9cbb4c6bc0c1a6911436d2da0d09ec625e43e6552f575d4acc9cf487c4686</td><td>2024-05-20 02:26:00</td><td>2024-05-20 02:45:00</td></tr>\n",
       "</tbody>\n",
       "</table>\n"
      ],
      "text/latex": [
       "A tibble: 1535 × 3\n",
       "\\begin{tabular}{lll}\n",
       " hashed\\_email & start\\_time & end\\_time\\\\\n",
       " <chr> & <dttm> & <dttm>\\\\\n",
       "\\hline\n",
       "\t bfce39c89d6549f2bb94d8064d3ce69dc3d7e72b38f431d8aa0c4bf95ccee6bf & 2024-06-30 18:12:00 & 2024-06-30 18:24:00\\\\\n",
       "\t 36d9cbb4c6bc0c1a6911436d2da0d09ec625e43e6552f575d4acc9cf487c4686 & 2024-06-17 23:33:00 & 2024-06-17 23:46:00\\\\\n",
       "\t f8f5477f5a2e53616ae37421b1c660b971192bd8ff77e3398304c7ae42581fdc & 2024-07-25 17:34:00 & 2024-07-25 17:57:00\\\\\n",
       "\t bfce39c89d6549f2bb94d8064d3ce69dc3d7e72b38f431d8aa0c4bf95ccee6bf & 2024-07-25 03:22:00 & 2024-07-25 03:58:00\\\\\n",
       "\t 36d9cbb4c6bc0c1a6911436d2da0d09ec625e43e6552f575d4acc9cf487c4686 & 2024-05-25 16:01:00 & 2024-05-25 16:12:00\\\\\n",
       "\t ⋮ & ⋮ & ⋮\\\\\n",
       "\t 36d9cbb4c6bc0c1a6911436d2da0d09ec625e43e6552f575d4acc9cf487c4686 & 2024-05-10 23:01:00 & 2024-05-10 23:07:00\\\\\n",
       "\t 7a4686586d290c67179275c7c3dfb4ea02f4d317d9ee0e2cee98baa27877a875 & 2024-07-01 04:08:00 & 2024-07-01 04:19:00\\\\\n",
       "\t fd6563a4e0f6f4273580e5fedbd8dda64990447aea5a33cbb5e894a3867ca44d & 2024-07-28 15:36:00 & 2024-07-28 15:57:00\\\\\n",
       "\t fd6563a4e0f6f4273580e5fedbd8dda64990447aea5a33cbb5e894a3867ca44d & 2024-07-25 06:15:00 & 2024-07-25 06:22:00\\\\\n",
       "\t 36d9cbb4c6bc0c1a6911436d2da0d09ec625e43e6552f575d4acc9cf487c4686 & 2024-05-20 02:26:00 & 2024-05-20 02:45:00\\\\\n",
       "\\end{tabular}\n"
      ],
      "text/markdown": [
       "\n",
       "A tibble: 1535 × 3\n",
       "\n",
       "| hashed_email &lt;chr&gt; | start_time &lt;dttm&gt; | end_time &lt;dttm&gt; |\n",
       "|---|---|---|\n",
       "| bfce39c89d6549f2bb94d8064d3ce69dc3d7e72b38f431d8aa0c4bf95ccee6bf | 2024-06-30 18:12:00 | 2024-06-30 18:24:00 |\n",
       "| 36d9cbb4c6bc0c1a6911436d2da0d09ec625e43e6552f575d4acc9cf487c4686 | 2024-06-17 23:33:00 | 2024-06-17 23:46:00 |\n",
       "| f8f5477f5a2e53616ae37421b1c660b971192bd8ff77e3398304c7ae42581fdc | 2024-07-25 17:34:00 | 2024-07-25 17:57:00 |\n",
       "| bfce39c89d6549f2bb94d8064d3ce69dc3d7e72b38f431d8aa0c4bf95ccee6bf | 2024-07-25 03:22:00 | 2024-07-25 03:58:00 |\n",
       "| 36d9cbb4c6bc0c1a6911436d2da0d09ec625e43e6552f575d4acc9cf487c4686 | 2024-05-25 16:01:00 | 2024-05-25 16:12:00 |\n",
       "| ⋮ | ⋮ | ⋮ |\n",
       "| 36d9cbb4c6bc0c1a6911436d2da0d09ec625e43e6552f575d4acc9cf487c4686 | 2024-05-10 23:01:00 | 2024-05-10 23:07:00 |\n",
       "| 7a4686586d290c67179275c7c3dfb4ea02f4d317d9ee0e2cee98baa27877a875 | 2024-07-01 04:08:00 | 2024-07-01 04:19:00 |\n",
       "| fd6563a4e0f6f4273580e5fedbd8dda64990447aea5a33cbb5e894a3867ca44d | 2024-07-28 15:36:00 | 2024-07-28 15:57:00 |\n",
       "| fd6563a4e0f6f4273580e5fedbd8dda64990447aea5a33cbb5e894a3867ca44d | 2024-07-25 06:15:00 | 2024-07-25 06:22:00 |\n",
       "| 36d9cbb4c6bc0c1a6911436d2da0d09ec625e43e6552f575d4acc9cf487c4686 | 2024-05-20 02:26:00 | 2024-05-20 02:45:00 |\n",
       "\n"
      ],
      "text/plain": [
       "     hashed_email                                                    \n",
       "1    bfce39c89d6549f2bb94d8064d3ce69dc3d7e72b38f431d8aa0c4bf95ccee6bf\n",
       "2    36d9cbb4c6bc0c1a6911436d2da0d09ec625e43e6552f575d4acc9cf487c4686\n",
       "3    f8f5477f5a2e53616ae37421b1c660b971192bd8ff77e3398304c7ae42581fdc\n",
       "4    bfce39c89d6549f2bb94d8064d3ce69dc3d7e72b38f431d8aa0c4bf95ccee6bf\n",
       "5    36d9cbb4c6bc0c1a6911436d2da0d09ec625e43e6552f575d4acc9cf487c4686\n",
       "⋮    ⋮                                                               \n",
       "1531 36d9cbb4c6bc0c1a6911436d2da0d09ec625e43e6552f575d4acc9cf487c4686\n",
       "1532 7a4686586d290c67179275c7c3dfb4ea02f4d317d9ee0e2cee98baa27877a875\n",
       "1533 fd6563a4e0f6f4273580e5fedbd8dda64990447aea5a33cbb5e894a3867ca44d\n",
       "1534 fd6563a4e0f6f4273580e5fedbd8dda64990447aea5a33cbb5e894a3867ca44d\n",
       "1535 36d9cbb4c6bc0c1a6911436d2da0d09ec625e43e6552f575d4acc9cf487c4686\n",
       "     start_time          end_time           \n",
       "1    2024-06-30 18:12:00 2024-06-30 18:24:00\n",
       "2    2024-06-17 23:33:00 2024-06-17 23:46:00\n",
       "3    2024-07-25 17:34:00 2024-07-25 17:57:00\n",
       "4    2024-07-25 03:22:00 2024-07-25 03:58:00\n",
       "5    2024-05-25 16:01:00 2024-05-25 16:12:00\n",
       "⋮    ⋮                   ⋮                  \n",
       "1531 2024-05-10 23:01:00 2024-05-10 23:07:00\n",
       "1532 2024-07-01 04:08:00 2024-07-01 04:19:00\n",
       "1533 2024-07-28 15:36:00 2024-07-28 15:57:00\n",
       "1534 2024-07-25 06:15:00 2024-07-25 06:22:00\n",
       "1535 2024-05-20 02:26:00 2024-05-20 02:45:00"
      ]
     },
     "metadata": {},
     "output_type": "display_data"
    },
    {
     "data": {
      "text/html": [
       "<table class=\"dataframe\">\n",
       "<caption>A spec_tbl_df: 196 × 7</caption>\n",
       "<thead>\n",
       "\t<tr><th scope=col>experience</th><th scope=col>subscribe</th><th scope=col>hashed_email</th><th scope=col>played_hours</th><th scope=col>name</th><th scope=col>gender</th><th scope=col>age</th></tr>\n",
       "\t<tr><th scope=col>&lt;chr&gt;</th><th scope=col>&lt;lgl&gt;</th><th scope=col>&lt;chr&gt;</th><th scope=col>&lt;dbl&gt;</th><th scope=col>&lt;chr&gt;</th><th scope=col>&lt;chr&gt;</th><th scope=col>&lt;dbl&gt;</th></tr>\n",
       "</thead>\n",
       "<tbody>\n",
       "\t<tr><td>Pro    </td><td> TRUE</td><td>f6daba428a5e19a3d47574858c13550499be23603422e6a0ee9728f8b53e192d</td><td>30.3</td><td>Morgan   </td><td>Male  </td><td> 9</td></tr>\n",
       "\t<tr><td>Veteran</td><td> TRUE</td><td>f3c813577c458ba0dfef80996f8f32c93b6e8af1fa939732842f2312358a88e9</td><td> 3.8</td><td>Christian</td><td>Male  </td><td>17</td></tr>\n",
       "\t<tr><td>Veteran</td><td>FALSE</td><td>b674dd7ee0d24096d1c019615ce4d12b20fcbff12d79d3c5a9d2118eb7ccbb28</td><td> 0.0</td><td>Blake    </td><td>Male  </td><td>17</td></tr>\n",
       "\t<tr><td>Amateur</td><td> TRUE</td><td>23fe711e0e3b77f1da7aa221ab1192afe21648d47d2b4fa7a5a659ff443a0eb5</td><td> 0.7</td><td>Flora    </td><td>Female</td><td>21</td></tr>\n",
       "\t<tr><td>Regular</td><td> TRUE</td><td>7dc01f10bf20671ecfccdac23812b1b415acd42c2147cb0af4d48fcce2420f3e</td><td> 0.1</td><td>Kylie    </td><td>Male  </td><td>21</td></tr>\n",
       "\t<tr><td>⋮</td><td>⋮</td><td>⋮</td><td>⋮</td><td>⋮</td><td>⋮</td><td>⋮</td></tr>\n",
       "\t<tr><td>Amateur</td><td> TRUE</td><td>b6e9e593b9ec51c5e335457341c324c34a2239531e1890b93ca52ac1dc76b08f</td><td>0.0</td><td>Bailey</td><td>Female           </td><td>17</td></tr>\n",
       "\t<tr><td>Veteran</td><td>FALSE</td><td>71453e425f07d10da4fa2b349c83e73ccdf0fb3312f778b35c5802c3292c87bd</td><td>0.3</td><td>Pascal</td><td>Male             </td><td>22</td></tr>\n",
       "\t<tr><td>Amateur</td><td>FALSE</td><td>d572f391d452b76ea2d7e5e53a3d38bfd7499c7399db299bd4fedb06a46ad5bb</td><td>0.0</td><td>Dylan </td><td>Prefer not to say</td><td>17</td></tr>\n",
       "\t<tr><td>Amateur</td><td>FALSE</td><td>f19e136ddde68f365afc860c725ccff54307dedd13968e896a9f890c40aea436</td><td>2.3</td><td>Harlow</td><td>Male             </td><td>17</td></tr>\n",
       "\t<tr><td>Pro    </td><td> TRUE</td><td>d9473710057f7d42f36570f0be83817a4eea614029ff90cf50d8889cdd729d11</td><td>0.2</td><td>Ahmed </td><td>Other            </td><td>NA</td></tr>\n",
       "</tbody>\n",
       "</table>\n"
      ],
      "text/latex": [
       "A spec\\_tbl\\_df: 196 × 7\n",
       "\\begin{tabular}{lllllll}\n",
       " experience & subscribe & hashed\\_email & played\\_hours & name & gender & age\\\\\n",
       " <chr> & <lgl> & <chr> & <dbl> & <chr> & <chr> & <dbl>\\\\\n",
       "\\hline\n",
       "\t Pro     &  TRUE & f6daba428a5e19a3d47574858c13550499be23603422e6a0ee9728f8b53e192d & 30.3 & Morgan    & Male   &  9\\\\\n",
       "\t Veteran &  TRUE & f3c813577c458ba0dfef80996f8f32c93b6e8af1fa939732842f2312358a88e9 &  3.8 & Christian & Male   & 17\\\\\n",
       "\t Veteran & FALSE & b674dd7ee0d24096d1c019615ce4d12b20fcbff12d79d3c5a9d2118eb7ccbb28 &  0.0 & Blake     & Male   & 17\\\\\n",
       "\t Amateur &  TRUE & 23fe711e0e3b77f1da7aa221ab1192afe21648d47d2b4fa7a5a659ff443a0eb5 &  0.7 & Flora     & Female & 21\\\\\n",
       "\t Regular &  TRUE & 7dc01f10bf20671ecfccdac23812b1b415acd42c2147cb0af4d48fcce2420f3e &  0.1 & Kylie     & Male   & 21\\\\\n",
       "\t ⋮ & ⋮ & ⋮ & ⋮ & ⋮ & ⋮ & ⋮\\\\\n",
       "\t Amateur &  TRUE & b6e9e593b9ec51c5e335457341c324c34a2239531e1890b93ca52ac1dc76b08f & 0.0 & Bailey & Female            & 17\\\\\n",
       "\t Veteran & FALSE & 71453e425f07d10da4fa2b349c83e73ccdf0fb3312f778b35c5802c3292c87bd & 0.3 & Pascal & Male              & 22\\\\\n",
       "\t Amateur & FALSE & d572f391d452b76ea2d7e5e53a3d38bfd7499c7399db299bd4fedb06a46ad5bb & 0.0 & Dylan  & Prefer not to say & 17\\\\\n",
       "\t Amateur & FALSE & f19e136ddde68f365afc860c725ccff54307dedd13968e896a9f890c40aea436 & 2.3 & Harlow & Male              & 17\\\\\n",
       "\t Pro     &  TRUE & d9473710057f7d42f36570f0be83817a4eea614029ff90cf50d8889cdd729d11 & 0.2 & Ahmed  & Other             & NA\\\\\n",
       "\\end{tabular}\n"
      ],
      "text/markdown": [
       "\n",
       "A spec_tbl_df: 196 × 7\n",
       "\n",
       "| experience &lt;chr&gt; | subscribe &lt;lgl&gt; | hashed_email &lt;chr&gt; | played_hours &lt;dbl&gt; | name &lt;chr&gt; | gender &lt;chr&gt; | age &lt;dbl&gt; |\n",
       "|---|---|---|---|---|---|---|\n",
       "| Pro     |  TRUE | f6daba428a5e19a3d47574858c13550499be23603422e6a0ee9728f8b53e192d | 30.3 | Morgan    | Male   |  9 |\n",
       "| Veteran |  TRUE | f3c813577c458ba0dfef80996f8f32c93b6e8af1fa939732842f2312358a88e9 |  3.8 | Christian | Male   | 17 |\n",
       "| Veteran | FALSE | b674dd7ee0d24096d1c019615ce4d12b20fcbff12d79d3c5a9d2118eb7ccbb28 |  0.0 | Blake     | Male   | 17 |\n",
       "| Amateur |  TRUE | 23fe711e0e3b77f1da7aa221ab1192afe21648d47d2b4fa7a5a659ff443a0eb5 |  0.7 | Flora     | Female | 21 |\n",
       "| Regular |  TRUE | 7dc01f10bf20671ecfccdac23812b1b415acd42c2147cb0af4d48fcce2420f3e |  0.1 | Kylie     | Male   | 21 |\n",
       "| ⋮ | ⋮ | ⋮ | ⋮ | ⋮ | ⋮ | ⋮ |\n",
       "| Amateur |  TRUE | b6e9e593b9ec51c5e335457341c324c34a2239531e1890b93ca52ac1dc76b08f | 0.0 | Bailey | Female            | 17 |\n",
       "| Veteran | FALSE | 71453e425f07d10da4fa2b349c83e73ccdf0fb3312f778b35c5802c3292c87bd | 0.3 | Pascal | Male              | 22 |\n",
       "| Amateur | FALSE | d572f391d452b76ea2d7e5e53a3d38bfd7499c7399db299bd4fedb06a46ad5bb | 0.0 | Dylan  | Prefer not to say | 17 |\n",
       "| Amateur | FALSE | f19e136ddde68f365afc860c725ccff54307dedd13968e896a9f890c40aea436 | 2.3 | Harlow | Male              | 17 |\n",
       "| Pro     |  TRUE | d9473710057f7d42f36570f0be83817a4eea614029ff90cf50d8889cdd729d11 | 0.2 | Ahmed  | Other             | NA |\n",
       "\n"
      ],
      "text/plain": [
       "    experience subscribe\n",
       "1   Pro         TRUE    \n",
       "2   Veteran     TRUE    \n",
       "3   Veteran    FALSE    \n",
       "4   Amateur     TRUE    \n",
       "5   Regular     TRUE    \n",
       "⋮   ⋮          ⋮        \n",
       "192 Amateur     TRUE    \n",
       "193 Veteran    FALSE    \n",
       "194 Amateur    FALSE    \n",
       "195 Amateur    FALSE    \n",
       "196 Pro         TRUE    \n",
       "    hashed_email                                                    \n",
       "1   f6daba428a5e19a3d47574858c13550499be23603422e6a0ee9728f8b53e192d\n",
       "2   f3c813577c458ba0dfef80996f8f32c93b6e8af1fa939732842f2312358a88e9\n",
       "3   b674dd7ee0d24096d1c019615ce4d12b20fcbff12d79d3c5a9d2118eb7ccbb28\n",
       "4   23fe711e0e3b77f1da7aa221ab1192afe21648d47d2b4fa7a5a659ff443a0eb5\n",
       "5   7dc01f10bf20671ecfccdac23812b1b415acd42c2147cb0af4d48fcce2420f3e\n",
       "⋮   ⋮                                                               \n",
       "192 b6e9e593b9ec51c5e335457341c324c34a2239531e1890b93ca52ac1dc76b08f\n",
       "193 71453e425f07d10da4fa2b349c83e73ccdf0fb3312f778b35c5802c3292c87bd\n",
       "194 d572f391d452b76ea2d7e5e53a3d38bfd7499c7399db299bd4fedb06a46ad5bb\n",
       "195 f19e136ddde68f365afc860c725ccff54307dedd13968e896a9f890c40aea436\n",
       "196 d9473710057f7d42f36570f0be83817a4eea614029ff90cf50d8889cdd729d11\n",
       "    played_hours name      gender            age\n",
       "1   30.3         Morgan    Male               9 \n",
       "2    3.8         Christian Male              17 \n",
       "3    0.0         Blake     Male              17 \n",
       "4    0.7         Flora     Female            21 \n",
       "5    0.1         Kylie     Male              21 \n",
       "⋮   ⋮            ⋮         ⋮                 ⋮  \n",
       "192 0.0          Bailey    Female            17 \n",
       "193 0.3          Pascal    Male              22 \n",
       "194 0.0          Dylan     Prefer not to say 17 \n",
       "195 2.3          Harlow    Male              17 \n",
       "196 0.2          Ahmed     Other             NA "
      ]
     },
     "metadata": {},
     "output_type": "display_data"
    }
   ],
   "source": [
    "sessions_url <- \"https://raw.githubusercontent.com/YoyoLiu314/group-project/refs/heads/main/sessions.csv\"\n",
    "players_url <- \"https://raw.githubusercontent.com/YoyoLiu314/group-project/refs/heads/main/players.csv\"\n",
    "\n",
    "players <- read_csv(players_url) |>\n",
    "    clean_names() \n",
    "    \n",
    "\n",
    "sessions <- read_csv(sessions_url) |>\n",
    "    clean_names() |>   \n",
    "    select(-starts_with(\"original\")) |>\n",
    "    mutate(start_time = dmy_hm(start_time), end_time = dmy_hm(end_time))\n",
    "    \n",
    "\n",
    "\n",
    "sessions\n",
    "players\n"
   ]
  },
  {
   "cell_type": "code",
   "execution_count": 9,
   "id": "d809a748",
   "metadata": {},
   "outputs": [
    {
     "data": {
      "text/html": [
       "<table class=\"dataframe\">\n",
       "<caption>A tibble: 125 × 4</caption>\n",
       "<thead>\n",
       "\t<tr><th scope=col>hashed_email</th><th scope=col>mean</th><th scope=col>play_time</th><th scope=col>num_sessions</th></tr>\n",
       "\t<tr><th scope=col>&lt;chr&gt;</th><th scope=col>&lt;drtn&gt;</th><th scope=col>&lt;drtn&gt;</th><th scope=col>&lt;int&gt;</th></tr>\n",
       "</thead>\n",
       "<tbody>\n",
       "\t<tr><td>0088b5e134c3f0498a18c7ea6b8d77b4b0ff1636fc93355ccc95b45423367832</td><td>53.00000 mins</td><td>106 mins</td><td> 2</td></tr>\n",
       "\t<tr><td>060aca80f8cfbf1c91553a72f4d5ec8034764b05ab59fe8e1cf0eee9a7b67967</td><td>30.00000 mins</td><td> 30 mins</td><td> 1</td></tr>\n",
       "\t<tr><td>0ce7bfa910d47fc91f21a7b3acd8f33bde6db57912ce0290fa0437ce0b97f387</td><td>11.00000 mins</td><td> 11 mins</td><td> 1</td></tr>\n",
       "\t<tr><td>0d4d71be33e2bc7266ee4983002bd930f69d304288a8663529c875f40f1750f3</td><td>32.15385 mins</td><td>418 mins</td><td>13</td></tr>\n",
       "\t<tr><td>0d70dd9cac34d646c810b1846fe6a85b9e288a76f5dcab9c1ff1a0e7ca200b3a</td><td>35.00000 mins</td><td> 70 mins</td><td> 2</td></tr>\n",
       "\t<tr><td>⋮</td><td>⋮</td><td>⋮</td><td>⋮</td></tr>\n",
       "\t<tr><td>fc0224c81384770e93ca717f32713960144bf0b52ff67639433a5c06a653a882</td><td>16.00000 mins</td><td>  16 mins</td><td>  1</td></tr>\n",
       "\t<tr><td>fcab03c6d3079521e7f9665caed0f31fe3dae6b5ccb86e6cb58747a43aa8789f</td><td>80.00000 mins</td><td>  80 mins</td><td>  1</td></tr>\n",
       "\t<tr><td>fd6563a4e0f6f4273580e5fedbd8dda64990447aea5a33cbb5e894a3867ca44d</td><td>15.46774 mins</td><td>4795 mins</td><td>310</td></tr>\n",
       "\t<tr><td>fe218a05c6c3fc6326f4f151e8cb75a2a9fa29e22b110d4c311fb58fb211f471</td><td> 9.00000 mins</td><td>   9 mins</td><td>  1</td></tr>\n",
       "\t<tr><td>fef4e1bed8c3f6dcd7bcd39ab21bd402386155b2ff8c8e53683e1d2793bf1ed1</td><td>72.00000 mins</td><td>  72 mins</td><td>  1</td></tr>\n",
       "</tbody>\n",
       "</table>\n"
      ],
      "text/latex": [
       "A tibble: 125 × 4\n",
       "\\begin{tabular}{llll}\n",
       " hashed\\_email & mean & play\\_time & num\\_sessions\\\\\n",
       " <chr> & <drtn> & <drtn> & <int>\\\\\n",
       "\\hline\n",
       "\t 0088b5e134c3f0498a18c7ea6b8d77b4b0ff1636fc93355ccc95b45423367832 & 53.00000 mins & 106 mins &  2\\\\\n",
       "\t 060aca80f8cfbf1c91553a72f4d5ec8034764b05ab59fe8e1cf0eee9a7b67967 & 30.00000 mins &  30 mins &  1\\\\\n",
       "\t 0ce7bfa910d47fc91f21a7b3acd8f33bde6db57912ce0290fa0437ce0b97f387 & 11.00000 mins &  11 mins &  1\\\\\n",
       "\t 0d4d71be33e2bc7266ee4983002bd930f69d304288a8663529c875f40f1750f3 & 32.15385 mins & 418 mins & 13\\\\\n",
       "\t 0d70dd9cac34d646c810b1846fe6a85b9e288a76f5dcab9c1ff1a0e7ca200b3a & 35.00000 mins &  70 mins &  2\\\\\n",
       "\t ⋮ & ⋮ & ⋮ & ⋮\\\\\n",
       "\t fc0224c81384770e93ca717f32713960144bf0b52ff67639433a5c06a653a882 & 16.00000 mins &   16 mins &   1\\\\\n",
       "\t fcab03c6d3079521e7f9665caed0f31fe3dae6b5ccb86e6cb58747a43aa8789f & 80.00000 mins &   80 mins &   1\\\\\n",
       "\t fd6563a4e0f6f4273580e5fedbd8dda64990447aea5a33cbb5e894a3867ca44d & 15.46774 mins & 4795 mins & 310\\\\\n",
       "\t fe218a05c6c3fc6326f4f151e8cb75a2a9fa29e22b110d4c311fb58fb211f471 &  9.00000 mins &    9 mins &   1\\\\\n",
       "\t fef4e1bed8c3f6dcd7bcd39ab21bd402386155b2ff8c8e53683e1d2793bf1ed1 & 72.00000 mins &   72 mins &   1\\\\\n",
       "\\end{tabular}\n"
      ],
      "text/markdown": [
       "\n",
       "A tibble: 125 × 4\n",
       "\n",
       "| hashed_email &lt;chr&gt; | mean &lt;drtn&gt; | play_time &lt;drtn&gt; | num_sessions &lt;int&gt; |\n",
       "|---|---|---|---|\n",
       "| 0088b5e134c3f0498a18c7ea6b8d77b4b0ff1636fc93355ccc95b45423367832 | 53.00000 mins | 106 mins |  2 |\n",
       "| 060aca80f8cfbf1c91553a72f4d5ec8034764b05ab59fe8e1cf0eee9a7b67967 | 30.00000 mins |  30 mins |  1 |\n",
       "| 0ce7bfa910d47fc91f21a7b3acd8f33bde6db57912ce0290fa0437ce0b97f387 | 11.00000 mins |  11 mins |  1 |\n",
       "| 0d4d71be33e2bc7266ee4983002bd930f69d304288a8663529c875f40f1750f3 | 32.15385 mins | 418 mins | 13 |\n",
       "| 0d70dd9cac34d646c810b1846fe6a85b9e288a76f5dcab9c1ff1a0e7ca200b3a | 35.00000 mins |  70 mins |  2 |\n",
       "| ⋮ | ⋮ | ⋮ | ⋮ |\n",
       "| fc0224c81384770e93ca717f32713960144bf0b52ff67639433a5c06a653a882 | 16.00000 mins |   16 mins |   1 |\n",
       "| fcab03c6d3079521e7f9665caed0f31fe3dae6b5ccb86e6cb58747a43aa8789f | 80.00000 mins |   80 mins |   1 |\n",
       "| fd6563a4e0f6f4273580e5fedbd8dda64990447aea5a33cbb5e894a3867ca44d | 15.46774 mins | 4795 mins | 310 |\n",
       "| fe218a05c6c3fc6326f4f151e8cb75a2a9fa29e22b110d4c311fb58fb211f471 |  9.00000 mins |    9 mins |   1 |\n",
       "| fef4e1bed8c3f6dcd7bcd39ab21bd402386155b2ff8c8e53683e1d2793bf1ed1 | 72.00000 mins |   72 mins |   1 |\n",
       "\n"
      ],
      "text/plain": [
       "    hashed_email                                                    \n",
       "1   0088b5e134c3f0498a18c7ea6b8d77b4b0ff1636fc93355ccc95b45423367832\n",
       "2   060aca80f8cfbf1c91553a72f4d5ec8034764b05ab59fe8e1cf0eee9a7b67967\n",
       "3   0ce7bfa910d47fc91f21a7b3acd8f33bde6db57912ce0290fa0437ce0b97f387\n",
       "4   0d4d71be33e2bc7266ee4983002bd930f69d304288a8663529c875f40f1750f3\n",
       "5   0d70dd9cac34d646c810b1846fe6a85b9e288a76f5dcab9c1ff1a0e7ca200b3a\n",
       "⋮   ⋮                                                               \n",
       "121 fc0224c81384770e93ca717f32713960144bf0b52ff67639433a5c06a653a882\n",
       "122 fcab03c6d3079521e7f9665caed0f31fe3dae6b5ccb86e6cb58747a43aa8789f\n",
       "123 fd6563a4e0f6f4273580e5fedbd8dda64990447aea5a33cbb5e894a3867ca44d\n",
       "124 fe218a05c6c3fc6326f4f151e8cb75a2a9fa29e22b110d4c311fb58fb211f471\n",
       "125 fef4e1bed8c3f6dcd7bcd39ab21bd402386155b2ff8c8e53683e1d2793bf1ed1\n",
       "    mean          play_time num_sessions\n",
       "1   53.00000 mins 106 mins   2          \n",
       "2   30.00000 mins  30 mins   1          \n",
       "3   11.00000 mins  11 mins   1          \n",
       "4   32.15385 mins 418 mins  13          \n",
       "5   35.00000 mins  70 mins   2          \n",
       "⋮   ⋮             ⋮         ⋮           \n",
       "121 16.00000 mins   16 mins   1         \n",
       "122 80.00000 mins   80 mins   1         \n",
       "123 15.46774 mins 4795 mins 310         \n",
       "124  9.00000 mins    9 mins   1         \n",
       "125 72.00000 mins   72 mins   1         "
      ]
     },
     "metadata": {},
     "output_type": "display_data"
    }
   ],
   "source": [
    "durations <- sessions |>\n",
    "    mutate(duration = end_time - start_time) |>\n",
    "    group_by(hashed_email) |>\n",
    "    summarize(mean = mean(duration, na.rm = TRUE), play_time = sum(duration, na.rm = TRUE), num_sessions = n())\n",
    "durations"
   ]
  },
  {
   "cell_type": "code",
   "execution_count": 11,
   "id": "7c6bc4d3",
   "metadata": {},
   "outputs": [
    {
     "name": "stderr",
     "output_type": "stream",
     "text": [
      "\u001b[1m\u001b[22mJoining with `by = join_by(hashed_email)`\n"
     ]
    },
    {
     "data": {
      "text/html": [
       "<table class=\"dataframe\">\n",
       "<caption>A tibble: 196 × 9</caption>\n",
       "<thead>\n",
       "\t<tr><th scope=col>experience</th><th scope=col>subscribe</th><th scope=col>played_hours</th><th scope=col>name</th><th scope=col>gender</th><th scope=col>age</th><th scope=col>mean</th><th scope=col>play_time</th><th scope=col>num_sessions</th></tr>\n",
       "\t<tr><th scope=col>&lt;chr&gt;</th><th scope=col>&lt;lgl&gt;</th><th scope=col>&lt;dbl&gt;</th><th scope=col>&lt;chr&gt;</th><th scope=col>&lt;chr&gt;</th><th scope=col>&lt;dbl&gt;</th><th scope=col>&lt;dbl&gt;</th><th scope=col>&lt;dbl&gt;</th><th scope=col>&lt;int&gt;</th></tr>\n",
       "</thead>\n",
       "<tbody>\n",
       "\t<tr><td>Pro    </td><td> TRUE</td><td>30.3</td><td>Morgan   </td><td>Male  </td><td> 9</td><td>74.77778</td><td>2019</td><td>27</td></tr>\n",
       "\t<tr><td>Veteran</td><td> TRUE</td><td> 3.8</td><td>Christian</td><td>Male  </td><td>17</td><td>85.00000</td><td> 255</td><td> 3</td></tr>\n",
       "\t<tr><td>Veteran</td><td>FALSE</td><td> 0.0</td><td>Blake    </td><td>Male  </td><td>17</td><td> 5.00000</td><td>   5</td><td> 1</td></tr>\n",
       "\t<tr><td>Amateur</td><td> TRUE</td><td> 0.7</td><td>Flora    </td><td>Female</td><td>21</td><td>50.00000</td><td>  50</td><td> 1</td></tr>\n",
       "\t<tr><td>Regular</td><td> TRUE</td><td> 0.1</td><td>Kylie    </td><td>Male  </td><td>21</td><td> 9.00000</td><td>   9</td><td> 1</td></tr>\n",
       "\t<tr><td>⋮</td><td>⋮</td><td>⋮</td><td>⋮</td><td>⋮</td><td>⋮</td><td>⋮</td><td>⋮</td><td>⋮</td></tr>\n",
       "\t<tr><td>Amateur</td><td> TRUE</td><td>0.0</td><td>Bailey</td><td>Female           </td><td>17</td><td> 0.00000</td><td>  0</td><td>0</td></tr>\n",
       "\t<tr><td>Veteran</td><td>FALSE</td><td>0.3</td><td>Pascal</td><td>Male             </td><td>22</td><td>21.00000</td><td> 21</td><td>1</td></tr>\n",
       "\t<tr><td>Amateur</td><td>FALSE</td><td>0.0</td><td>Dylan </td><td>Prefer not to say</td><td>17</td><td> 5.00000</td><td>  5</td><td>1</td></tr>\n",
       "\t<tr><td>Amateur</td><td>FALSE</td><td>2.3</td><td>Harlow</td><td>Male             </td><td>17</td><td>29.83333</td><td>179</td><td>6</td></tr>\n",
       "\t<tr><td>Pro    </td><td> TRUE</td><td>0.2</td><td>Ahmed </td><td>Other            </td><td>NA</td><td>15.00000</td><td> 15</td><td>1</td></tr>\n",
       "</tbody>\n",
       "</table>\n"
      ],
      "text/latex": [
       "A tibble: 196 × 9\n",
       "\\begin{tabular}{lllllllll}\n",
       " experience & subscribe & played\\_hours & name & gender & age & mean & play\\_time & num\\_sessions\\\\\n",
       " <chr> & <lgl> & <dbl> & <chr> & <chr> & <dbl> & <dbl> & <dbl> & <int>\\\\\n",
       "\\hline\n",
       "\t Pro     &  TRUE & 30.3 & Morgan    & Male   &  9 & 74.77778 & 2019 & 27\\\\\n",
       "\t Veteran &  TRUE &  3.8 & Christian & Male   & 17 & 85.00000 &  255 &  3\\\\\n",
       "\t Veteran & FALSE &  0.0 & Blake     & Male   & 17 &  5.00000 &    5 &  1\\\\\n",
       "\t Amateur &  TRUE &  0.7 & Flora     & Female & 21 & 50.00000 &   50 &  1\\\\\n",
       "\t Regular &  TRUE &  0.1 & Kylie     & Male   & 21 &  9.00000 &    9 &  1\\\\\n",
       "\t ⋮ & ⋮ & ⋮ & ⋮ & ⋮ & ⋮ & ⋮ & ⋮ & ⋮\\\\\n",
       "\t Amateur &  TRUE & 0.0 & Bailey & Female            & 17 &  0.00000 &   0 & 0\\\\\n",
       "\t Veteran & FALSE & 0.3 & Pascal & Male              & 22 & 21.00000 &  21 & 1\\\\\n",
       "\t Amateur & FALSE & 0.0 & Dylan  & Prefer not to say & 17 &  5.00000 &   5 & 1\\\\\n",
       "\t Amateur & FALSE & 2.3 & Harlow & Male              & 17 & 29.83333 & 179 & 6\\\\\n",
       "\t Pro     &  TRUE & 0.2 & Ahmed  & Other             & NA & 15.00000 &  15 & 1\\\\\n",
       "\\end{tabular}\n"
      ],
      "text/markdown": [
       "\n",
       "A tibble: 196 × 9\n",
       "\n",
       "| experience &lt;chr&gt; | subscribe &lt;lgl&gt; | played_hours &lt;dbl&gt; | name &lt;chr&gt; | gender &lt;chr&gt; | age &lt;dbl&gt; | mean &lt;dbl&gt; | play_time &lt;dbl&gt; | num_sessions &lt;int&gt; |\n",
       "|---|---|---|---|---|---|---|---|---|\n",
       "| Pro     |  TRUE | 30.3 | Morgan    | Male   |  9 | 74.77778 | 2019 | 27 |\n",
       "| Veteran |  TRUE |  3.8 | Christian | Male   | 17 | 85.00000 |  255 |  3 |\n",
       "| Veteran | FALSE |  0.0 | Blake     | Male   | 17 |  5.00000 |    5 |  1 |\n",
       "| Amateur |  TRUE |  0.7 | Flora     | Female | 21 | 50.00000 |   50 |  1 |\n",
       "| Regular |  TRUE |  0.1 | Kylie     | Male   | 21 |  9.00000 |    9 |  1 |\n",
       "| ⋮ | ⋮ | ⋮ | ⋮ | ⋮ | ⋮ | ⋮ | ⋮ | ⋮ |\n",
       "| Amateur |  TRUE | 0.0 | Bailey | Female            | 17 |  0.00000 |   0 | 0 |\n",
       "| Veteran | FALSE | 0.3 | Pascal | Male              | 22 | 21.00000 |  21 | 1 |\n",
       "| Amateur | FALSE | 0.0 | Dylan  | Prefer not to say | 17 |  5.00000 |   5 | 1 |\n",
       "| Amateur | FALSE | 2.3 | Harlow | Male              | 17 | 29.83333 | 179 | 6 |\n",
       "| Pro     |  TRUE | 0.2 | Ahmed  | Other             | NA | 15.00000 |  15 | 1 |\n",
       "\n"
      ],
      "text/plain": [
       "    experience subscribe played_hours name      gender            age mean    \n",
       "1   Pro         TRUE     30.3         Morgan    Male               9  74.77778\n",
       "2   Veteran     TRUE      3.8         Christian Male              17  85.00000\n",
       "3   Veteran    FALSE      0.0         Blake     Male              17   5.00000\n",
       "4   Amateur     TRUE      0.7         Flora     Female            21  50.00000\n",
       "5   Regular     TRUE      0.1         Kylie     Male              21   9.00000\n",
       "⋮   ⋮          ⋮         ⋮            ⋮         ⋮                 ⋮   ⋮       \n",
       "192 Amateur     TRUE     0.0          Bailey    Female            17   0.00000\n",
       "193 Veteran    FALSE     0.3          Pascal    Male              22  21.00000\n",
       "194 Amateur    FALSE     0.0          Dylan     Prefer not to say 17   5.00000\n",
       "195 Amateur    FALSE     2.3          Harlow    Male              17  29.83333\n",
       "196 Pro         TRUE     0.2          Ahmed     Other             NA  15.00000\n",
       "    play_time num_sessions\n",
       "1   2019      27          \n",
       "2    255       3          \n",
       "3      5       1          \n",
       "4     50       1          \n",
       "5      9       1          \n",
       "⋮   ⋮         ⋮           \n",
       "192   0       0           \n",
       "193  21       1           \n",
       "194   5       1           \n",
       "195 179       6           \n",
       "196  15       1           "
      ]
     },
     "metadata": {},
     "output_type": "display_data"
    }
   ],
   "source": [
    "players_joined <- left_join(players, durations) |>\n",
    "    select(-hashed_email) |>\n",
    "    mutate(play_time = as.numeric(play_time), mean = as.numeric(mean)) |>\n",
    "    mutate(play_time = replace_na(play_time, 0), mean = replace_na(mean, 0), num_sessions = replace_na(num_sessions, 0))\n",
    "players_joined"
   ]
  },
  {
   "cell_type": "code",
   "execution_count": 13,
   "id": "e55bfb82",
   "metadata": {},
   "outputs": [
    {
     "data": {
      "text/html": [
       "<table class=\"dataframe\">\n",
       "<caption>A tibble: 196 × 6</caption>\n",
       "<thead>\n",
       "\t<tr><th scope=col>subscribe</th><th scope=col>age</th><th scope=col>mean</th><th scope=col>play_time</th><th scope=col>exp_num</th><th scope=col>num_sessions</th></tr>\n",
       "\t<tr><th scope=col>&lt;lgl&gt;</th><th scope=col>&lt;dbl&gt;</th><th scope=col>&lt;dbl&gt;</th><th scope=col>&lt;dbl&gt;</th><th scope=col>&lt;dbl&gt;</th><th scope=col>&lt;int&gt;</th></tr>\n",
       "</thead>\n",
       "<tbody>\n",
       "\t<tr><td> TRUE</td><td> 9</td><td>74.77778</td><td>2019</td><td>3</td><td>27</td></tr>\n",
       "\t<tr><td> TRUE</td><td>17</td><td>85.00000</td><td> 255</td><td>4</td><td> 3</td></tr>\n",
       "\t<tr><td>FALSE</td><td>17</td><td> 5.00000</td><td>   5</td><td>4</td><td> 1</td></tr>\n",
       "\t<tr><td> TRUE</td><td>21</td><td>50.00000</td><td>  50</td><td>1</td><td> 1</td></tr>\n",
       "\t<tr><td> TRUE</td><td>21</td><td> 9.00000</td><td>   9</td><td>2</td><td> 1</td></tr>\n",
       "\t<tr><td>⋮</td><td>⋮</td><td>⋮</td><td>⋮</td><td>⋮</td><td>⋮</td></tr>\n",
       "\t<tr><td> TRUE</td><td>17</td><td> 0.00000</td><td>  0</td><td>1</td><td>0</td></tr>\n",
       "\t<tr><td>FALSE</td><td>22</td><td>21.00000</td><td> 21</td><td>4</td><td>1</td></tr>\n",
       "\t<tr><td>FALSE</td><td>17</td><td> 5.00000</td><td>  5</td><td>1</td><td>1</td></tr>\n",
       "\t<tr><td>FALSE</td><td>17</td><td>29.83333</td><td>179</td><td>1</td><td>6</td></tr>\n",
       "\t<tr><td> TRUE</td><td>NA</td><td>15.00000</td><td> 15</td><td>3</td><td>1</td></tr>\n",
       "</tbody>\n",
       "</table>\n"
      ],
      "text/latex": [
       "A tibble: 196 × 6\n",
       "\\begin{tabular}{llllll}\n",
       " subscribe & age & mean & play\\_time & exp\\_num & num\\_sessions\\\\\n",
       " <lgl> & <dbl> & <dbl> & <dbl> & <dbl> & <int>\\\\\n",
       "\\hline\n",
       "\t  TRUE &  9 & 74.77778 & 2019 & 3 & 27\\\\\n",
       "\t  TRUE & 17 & 85.00000 &  255 & 4 &  3\\\\\n",
       "\t FALSE & 17 &  5.00000 &    5 & 4 &  1\\\\\n",
       "\t  TRUE & 21 & 50.00000 &   50 & 1 &  1\\\\\n",
       "\t  TRUE & 21 &  9.00000 &    9 & 2 &  1\\\\\n",
       "\t ⋮ & ⋮ & ⋮ & ⋮ & ⋮ & ⋮\\\\\n",
       "\t  TRUE & 17 &  0.00000 &   0 & 1 & 0\\\\\n",
       "\t FALSE & 22 & 21.00000 &  21 & 4 & 1\\\\\n",
       "\t FALSE & 17 &  5.00000 &   5 & 1 & 1\\\\\n",
       "\t FALSE & 17 & 29.83333 & 179 & 1 & 6\\\\\n",
       "\t  TRUE & NA & 15.00000 &  15 & 3 & 1\\\\\n",
       "\\end{tabular}\n"
      ],
      "text/markdown": [
       "\n",
       "A tibble: 196 × 6\n",
       "\n",
       "| subscribe &lt;lgl&gt; | age &lt;dbl&gt; | mean &lt;dbl&gt; | play_time &lt;dbl&gt; | exp_num &lt;dbl&gt; | num_sessions &lt;int&gt; |\n",
       "|---|---|---|---|---|---|\n",
       "|  TRUE |  9 | 74.77778 | 2019 | 3 | 27 |\n",
       "|  TRUE | 17 | 85.00000 |  255 | 4 |  3 |\n",
       "| FALSE | 17 |  5.00000 |    5 | 4 |  1 |\n",
       "|  TRUE | 21 | 50.00000 |   50 | 1 |  1 |\n",
       "|  TRUE | 21 |  9.00000 |    9 | 2 |  1 |\n",
       "| ⋮ | ⋮ | ⋮ | ⋮ | ⋮ | ⋮ |\n",
       "|  TRUE | 17 |  0.00000 |   0 | 1 | 0 |\n",
       "| FALSE | 22 | 21.00000 |  21 | 4 | 1 |\n",
       "| FALSE | 17 |  5.00000 |   5 | 1 | 1 |\n",
       "| FALSE | 17 | 29.83333 | 179 | 1 | 6 |\n",
       "|  TRUE | NA | 15.00000 |  15 | 3 | 1 |\n",
       "\n"
      ],
      "text/plain": [
       "    subscribe age mean     play_time exp_num num_sessions\n",
       "1    TRUE      9  74.77778 2019      3       27          \n",
       "2    TRUE     17  85.00000  255      4        3          \n",
       "3   FALSE     17   5.00000    5      4        1          \n",
       "4    TRUE     21  50.00000   50      1        1          \n",
       "5    TRUE     21   9.00000    9      2        1          \n",
       "⋮   ⋮         ⋮   ⋮        ⋮         ⋮       ⋮           \n",
       "192  TRUE     17   0.00000   0       1       0           \n",
       "193 FALSE     22  21.00000  21       4       1           \n",
       "194 FALSE     17   5.00000   5       1       1           \n",
       "195 FALSE     17  29.83333 179       1       6           \n",
       "196  TRUE     NA  15.00000  15       3       1           "
      ]
     },
     "metadata": {},
     "output_type": "display_data"
    }
   ],
   "source": [
    "players_numeric <- players_joined |>\n",
    "    mutate(exp_num = case_when(experience == \"Beginner\" ~ 0, \n",
    "                               experience == \"Amateur\" ~ 1, \n",
    "                               experience == \"Regular\" ~ 2, \n",
    "                               experience == \"Pro\" ~ 3, \n",
    "                               experience == \"Veteran\" ~ 4)) |>\n",
    "    select(subscribe, age, mean, play_time, exp_num, num_sessions)\n",
    "players_numeric"
   ]
  },
  {
   "cell_type": "markdown",
   "id": "174ce519-bc4c-49c9-86c7-f56230950aea",
   "metadata": {},
   "source": [
    "## Wrangling complete"
   ]
  },
  {
   "cell_type": "markdown",
   "id": "ee6991e2-db05-4dbb-90e9-e8bcf98de104",
   "metadata": {},
   "source": [
    "Split the data, make some basic visualizations to look at these variables (maybe make some scatter plots coloured by subscription status?) and see if there are any visual relationships\n",
    "\n",
    "Note that the most interesting variables we have are `mean` and `num_sessions`, which represents how often and for how long the players play instead of just how long they played in total. Pretty much no one else is looking at this, so lean into how important/interesting it is to be examining this.\n",
    "\n",
    "`exp_num` is just the experience levels recoded into numbers. We can treat it as a numeric variable now for our model."
   ]
  },
  {
   "cell_type": "code",
   "execution_count": null,
   "id": "a53f060d-98ef-48a3-bdcd-36b762ca8389",
   "metadata": {},
   "outputs": [],
   "source": []
  }
 ],
 "metadata": {
  "kernelspec": {
   "display_name": "R",
   "language": "R",
   "name": "ir"
  },
  "language_info": {
   "codemirror_mode": "r",
   "file_extension": ".r",
   "mimetype": "text/x-r-source",
   "name": "R",
   "pygments_lexer": "r",
   "version": "4.3.3"
  }
 },
 "nbformat": 4,
 "nbformat_minor": 5
}
