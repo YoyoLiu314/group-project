{
 "cells": [
  {
   "cell_type": "markdown",
   "id": "519c87eb-4a67-44e7-ae89-751d755f9a2e",
   "metadata": {},
   "source": [
    "# DSCI 100 Group Project"
   ]
  },
  {
   "cell_type": "markdown",
   "id": "f8db31d9-97a0-420a-9490-76d930d29c95",
   "metadata": {},
   "source": [
    "### Introduction\n",
    "To do: \n",
    "- Write a bit about what the data set is (couple sentences about PLAICraft, purpose of the study)\n",
    "- State the question: demand forecasting\n",
    "- Describe the dataset used: sessions AND players\n",
    "\n",
    "New question: predicting subscription status\n",
    "- Use quantitative variables (ignore experience)\n",
    "- Can use age, hours played, number of sessions, and session length: the last two use some more interesting wrangling techniques to figure out that can show our knowledge and make our investigation a bit different\n",
    "- Call it \"playing behaviour\"?"
   ]
  },
  {
   "cell_type": "markdown",
   "id": "7b97904f-69e0-43d0-8b82-1ff4c308025f",
   "metadata": {},
   "source": [
    "### Summary\n",
    "Upon inspection, the `players` dataset, in which each observation is a unique player, contains the following variables:\n",
    "- `experience`, the self-reported experience level of each player: character string (should be categorical)\n",
    "- `subscribe`, whether the player subscribed to a database: logical\n",
    "- `hashedEmail`, a unique, untraceable identifier derived from the player's email: character string\n",
    "- `played_hours`, how long they played PLAICraft, in hours: numeric \n",
    "- `gender`, their self-reported gender identity: character string\n",
    "- `Age`, their self-reported age in years: numeric\n",
    "\n",
    "Data for 196 unique players is included in this dataset.\n",
    "\n",
    "`sessions`, in which each observation is a play session contains:\n",
    "- `hashedEmail` of the player who played the session\n",
    "- `start_time` and `end_time`, timestamps for the beginning and end of the play session: character strings that should be date-times\n",
    "- `original_start_time` and `original_end_time`, roughly the number of milliseconds between January 1, 1970, and the beginning/end of the play session: numeric\n",
    "\n",
    "Data for 1535 play sessions is included in this dataset."
   ]
  },
  {
   "cell_type": "markdown",
   "id": "6ed15bf2-6b74-409f-90a1-d311c7c02abf",
   "metadata": {},
   "source": [
    "### Exploratory Data Analysis\n",
    "\n",
    "To do: \n",
    "- Split the data into a training set and a testing set. Only explore the training set.\n",
    "- Calculate basic summary statistics on time played and make a few visualizations, like in planning document"
   ]
  },
  {
   "cell_type": "code",
   "execution_count": null,
   "id": "61452daf-b8d8-4cea-8a80-002b2670d226",
   "metadata": {},
   "outputs": [],
   "source": []
  }
 ],
 "metadata": {
  "kernelspec": {
   "display_name": "R",
   "language": "R",
   "name": "ir"
  },
  "language_info": {
   "codemirror_mode": "r",
   "file_extension": ".r",
   "mimetype": "text/x-r-source",
   "name": "R",
   "pygments_lexer": "r",
   "version": "4.3.3"
  }
 },
 "nbformat": 4,
 "nbformat_minor": 5
}
