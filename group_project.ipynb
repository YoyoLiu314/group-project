{
 "cells": [
  {
   "cell_type": "markdown",
   "id": "519c87eb-4a67-44e7-ae89-751d755f9a2e",
   "metadata": {},
   "source": [
    "# DSCI 100 Group Project"
   ]
  },
  {
   "cell_type": "markdown",
   "id": "f8db31d9-97a0-420a-9490-76d930d29c95",
   "metadata": {},
   "source": [
    "### Introduction\n",
    "To do: \n",
    "- Write a bit about what the data set is (couple sentences about PLAICraft, purpose of the study)\n",
    "- State the question: demand forecasting\n",
    "- Describe the dataset used: sessions AND players\n",
    "\n",
    "New question: predicting subscription status\n",
    "- Use quantitative variables (ignore experience)\n",
    "- Can use age, hours played, number of sessions, and session length: the last two use some more interesting wrangling techniques to figure out that can show our knowledge and make our investigation a bit different\n",
    "- Call it \"playing behaviour\"?"
   ]
  },
  {
   "cell_type": "markdown",
   "id": "c2f3240c-d4e3-44f4-b510-1f721e17df9d",
   "metadata": {},
   "source": [
    "The data from the players.csv dataset contains the following 7 variables with 196 players recorded:\n",
    "\n",
    "-experience levels (from Pro to Beginner recorded as characters)\n",
    "\n",
    "-if they are a subscriber (true or false recorded as logical)\n",
    "\n",
    "-their email, amount of played hours on the game (recorded as double)\n",
    "\n",
    "-their name (recorded as characters)\n",
    "\n",
    "-gender (Female, Male, Non-binary, and more, all recorded as characters)\n",
    "\n",
    "-age (in years recorded as double).\n"
   ]
  },
  {
   "cell_type": "markdown",
   "id": "6ed15bf2-6b74-409f-90a1-d311c7c02abf",
   "metadata": {},
   "source": [
    "### Exploratory Data Analysis\n",
    "\n",
    "To do: \n",
    "- Split the data into a training set and a testing set. Only explore the training set.\n",
    "- Calculate basic summary statistics on time played and make a few visualizations, like in planning document"
   ]
  },
  {
   "cell_type": "code",
   "execution_count": null,
   "id": "61452daf-b8d8-4cea-8a80-002b2670d226",
   "metadata": {},
   "outputs": [],
   "source": []
  }
 ],
 "metadata": {
  "kernelspec": {
   "display_name": "R",
   "language": "R",
   "name": "ir"
  },
  "language_info": {
   "codemirror_mode": "r",
   "file_extension": ".r",
   "mimetype": "text/x-r-source",
   "name": "R",
   "pygments_lexer": "r",
   "version": "4.3.3"
  }
 },
 "nbformat": 4,
 "nbformat_minor": 5
}
