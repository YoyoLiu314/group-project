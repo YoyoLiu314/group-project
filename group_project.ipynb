{
 "cells": [
  {
   "cell_type": "markdown",
   "id": "519c87eb-4a67-44e7-ae89-751d755f9a2e",
   "metadata": {},
   "source": [
    "# DSCI 100 Group Project"
   ]
  },
  {
   "cell_type": "markdown",
   "id": "f8db31d9-97a0-420a-9490-76d930d29c95",
   "metadata": {},
   "source": [
    "### Introduction\n",
    "To do: \n",
    "- Write a bit about what the data set is (couple sentences about PLAICraft, purpose of the study)\n",
    "- State the question: demand forecasting\n",
    "- Describe the dataset used: sessions AND players\n",
    "\n",
    "As is, the question is kind of too broad, so here are some easier ones to run by the TA:\n",
    "- Mean number of sessions in each hour of the day: pick the top x number of hours as \"peak hours\" -- can use bootstrapping for this\n",
    "- "
   ]
  },
  {
   "cell_type": "markdown",
   "id": "6ed15bf2-6b74-409f-90a1-d311c7c02abf",
   "metadata": {},
   "source": [
    "### Exploratory Data Analysis\n",
    "\n",
    "To do: \n",
    "- Split the data into a training set and a testing set. Only explore the training set.\n",
    "- Calculate basic summary statistics on time played and make a few visualizations, like in planning document"
   ]
  },
  {
   "cell_type": "code",
   "execution_count": null,
   "id": "61452daf-b8d8-4cea-8a80-002b2670d226",
   "metadata": {},
   "outputs": [],
   "source": []
  }
 ],
 "metadata": {
  "kernelspec": {
   "display_name": "R",
   "language": "R",
   "name": "ir"
  },
  "language_info": {
   "codemirror_mode": "r",
   "file_extension": ".r",
   "mimetype": "text/x-r-source",
   "name": "R",
   "pygments_lexer": "r",
   "version": "4.3.3"
  }
 },
 "nbformat": 4,
 "nbformat_minor": 5
}
